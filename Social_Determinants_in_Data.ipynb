{
  "nbformat": 4,
  "nbformat_minor": 0,
  "metadata": {
    "colab": {
      "name": "Social Determinants in Data",
      "provenance": [],
      "collapsed_sections": [],
      "authorship_tag": "ABX9TyNuAXzJIDFtSbClQCJTM/4h"
    },
    "kernelspec": {
      "name": "python3",
      "display_name": "Python 3"
    }
  },
  "cells": [
    {
      "cell_type": "markdown",
      "metadata": {
        "id": "fHN84GQFaY-u",
        "colab_type": "text"
      },
      "source": [
        "# Social Determinants in Data \n",
        "---\n",
        "**Goals:** \n",
        "\n",
        "*   to predict heart/stroke problems, they are indicated as variables LAHCA7 and LAHCA8 respectively.\n",
        "*   to identify some variables you think would be relevant and trying out some summary using pandas, for example, get the percentage of categorical variables(ethnicity, marital status), average for continuous variables(age, income, etc), or  plotting\n",
        "\n",
        "\n"
      ]
    }
  ]
}